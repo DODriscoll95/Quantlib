{
 "cells": [
  {
   "cell_type": "code",
   "execution_count": 1,
   "metadata": {},
   "outputs": [],
   "source": [
    "import pandas as pd\n",
    "import numpy as np\n",
    "import QuantLib as ql"
   ]
  },
  {
   "cell_type": "markdown",
   "metadata": {},
   "source": [
    "## Interest Rate Swaps in QuantLib"
   ]
  },
  {
   "cell_type": "markdown",
   "metadata": {},
   "source": [
    "Plain Vanilla USD swap 10m notional 10Y maturity \n",
    "\n",
    "Fixed leg 3% cupon semianually, floating leg pays 3.5m quarterly"
   ]
  },
  {
   "cell_type": "code",
   "execution_count": 13,
   "metadata": {},
   "outputs": [],
   "source": [
    "calculation_date = ql.Date(15,1,2012)\n",
    "ql.Settings.instance().evaluationDate = calculation_date"
   ]
  },
  {
   "cell_type": "code",
   "execution_count": 14,
   "metadata": {},
   "outputs": [],
   "source": [
    "risk_free_rate = 0.01\n",
    "libor_rate = 0.02\n",
    "\n",
    "day_count = ql.Actual365Fixed()\n",
    "\n",
    "discount_curve = ql.YieldTermStructureHandle(ql.FlatForward(calculation_date,risk_free_rate,day_count))\n",
    "\n",
    "libor_curve = ql.YieldTermStructureHandle(ql.FlatForward(calculation_date,libor_rate,day_count))\n",
    "\n",
    "libor3M_index = ql.USDLibor(ql.Period(3,ql.Months), libor_curve)"
   ]
  },
  {
   "cell_type": "markdown",
   "metadata": {},
   "source": [
    "## To make the swap, construct the fixed and floating leg schedules"
   ]
  },
  {
   "cell_type": "code",
   "execution_count": 15,
   "metadata": {},
   "outputs": [],
   "source": [
    "calendar = ql.UnitedStates()\n",
    "\n",
    "settle_date = calendar.advance(calculation_date,5,ql.Days)\n",
    "maturity_date = calendar.advance(settle_date,10,ql.Years)\n",
    "\n",
    "\n",
    "fixed_leg_tenor = ql.Period(6,ql.Months)\n",
    "fixed_schedule = ql.Schedule(settle_date, maturity_date, fixed_leg_tenor,calendar,ql.ModifiedFollowing, \n",
    "                             ql.ModifiedFollowing,ql.DateGeneration.Forward,False)\n",
    "\n",
    "float_leg_tenor = ql.Period(3,ql.Months)\n",
    "float_schedule = ql.Schedule(settle_date, maturity_date, fixed_leg_tenor,calendar,ql.ModifiedFollowing, \n",
    "                             ql.ModifiedFollowing,ql.DateGeneration.Forward,False)"
   ]
  },
  {
   "cell_type": "code",
   "execution_count": 16,
   "metadata": {},
   "outputs": [],
   "source": [
    "notional = 1*10**6\n",
    "\n",
    "fixed_rate  = 0.03\n",
    "fixed_leg_daycount = ql.Actual360()\n",
    "float_spread  = 0.004\n",
    "float_leg_daycount = ql.Actual360()\n",
    "\n",
    "ir_swap = ql.VanillaSwap(ql.VanillaSwap.Payer, notional, fixed_schedule, fixed_rate,fixed_leg_daycount,float_schedule, \n",
    "                         libor3M_index, float_spread,float_leg_daycount)\n",
    "\n",
    "swap_engine = ql.DiscountingSwapEngine(discount_curve)\n",
    "ir_swap.setPricingEngine(swap_engine)"
   ]
  },
  {
   "cell_type": "code",
   "execution_count": 17,
   "metadata": {},
   "outputs": [
    {
     "name": "stdout",
     "output_type": "stream",
     "text": [
      " 1    July 23rd, 2012       15166.67\n",
      " 2    January 23rd, 2013    15333.33\n",
      " 3    July 23rd, 2013       15083.33\n",
      " 4    January 23rd, 2014    15333.33\n",
      " 5    July 23rd, 2014       15083.33\n",
      " 6    January 23rd, 2015    15333.33\n",
      " 7    July 23rd, 2015       15083.33\n",
      " 8    January 25th, 2016    15500.00\n",
      " 9    July 25th, 2016       15166.67\n",
      "10    January 23rd, 2017    15166.67\n",
      "11    July 24th, 2017       15166.67\n",
      "12    January 23rd, 2018    15250.00\n",
      "13    July 23rd, 2018       15083.33\n",
      "14    January 23rd, 2019    15333.33\n",
      "15    July 23rd, 2019       15083.33\n",
      "16    January 23rd, 2020    15333.33\n",
      "17    July 23rd, 2020       15166.67\n",
      "18    January 25th, 2021    15500.00\n",
      "19    July 23rd, 2021       14916.67\n",
      "20    January 24th, 2022    15416.67\n"
     ]
    }
   ],
   "source": [
    "for i, cf in enumerate(ir_swap.leg(0)):\n",
    "    print(\"%2d    %-18s  %10.2f\"%(i+1, cf.date(), cf.amount()))"
   ]
  },
  {
   "cell_type": "code",
   "execution_count": 20,
   "metadata": {},
   "outputs": [
    {
     "name": "stdout",
     "output_type": "stream",
     "text": [
      "('Net Present Value', -59477.931577944895)\n",
      "('Fair Spread', 0.010174896073070736)\n",
      "Fair Rate           :                0.024\n",
      "Fixed Leg BPS       :             -963.222\n",
      "Floating Leg BPS    :              963.222\n"
     ]
    }
   ],
   "source": [
    "print(\"%-20s: %20.3f\" % (\"Net Present Value\", ir_swap.NPV()))\n",
    "print(\"%-20s: %20.3f\" % (\"Fair Spread\", ir_swap.fairSpread()))\n",
    "print(\"%-20s: %20.3f\" % (\"Fair Rate\", ir_swap.fairRate()))\n",
    "print(\"%-20s: %20.3f\" % (\"Fixed Leg BPS\", ir_swap.fixedLegBPS()))\n",
    "print(\"%-20s: %20.3f\" % (\"Floating Leg BPS\", ir_swap.floatingLegBPS()))"
   ]
  },
  {
   "cell_type": "code",
   "execution_count": null,
   "metadata": {},
   "outputs": [],
   "source": []
  }
 ],
 "metadata": {
  "kernelspec": {
   "display_name": "Python 3",
   "language": "python",
   "name": "python3"
  },
  "language_info": {
   "codemirror_mode": {
    "name": "ipython",
    "version": 3
   },
   "file_extension": ".py",
   "mimetype": "text/x-python",
   "name": "python",
   "nbconvert_exporter": "python",
   "pygments_lexer": "ipython3",
   "version": "3.8.3"
  }
 },
 "nbformat": 4,
 "nbformat_minor": 4
}
