{
 "cells": [
  {
   "cell_type": "markdown",
   "metadata": {},
   "source": [
    "#  PRICING CUPON BONDS IN QUANTLIB"
   ]
  },
  {
   "cell_type": "markdown",
   "metadata": {},
   "source": [
    "Consider a bond with par 100, 6% semi annual cupon, issued January 15th 2015, maturity date January 16th 2016.\n",
    "\n",
    "Cupons paid on July 15th and January 15th 2016, par paid on maturity.\n"
   ]
  },
  {
   "cell_type": "markdown",
   "metadata": {},
   "source": [
    "Assume spot rates are known, 0.5% for 6mths, 0.7% for one year.\n",
    "\n",
    "Standard Calculation:"
   ]
  },
  {
   "cell_type": "code",
   "execution_count": 1,
   "metadata": {},
   "outputs": [
    {
     "name": "stdout",
     "output_type": "stream",
     "text": [
      "The price of the bond is: 105.27653992490681\n"
     ]
    }
   ],
   "source": [
    "cupon = 3/((1+0.005)**0.5)\n",
    "parandcupon = (100+3)/((1+0.007)**1)\n",
    "price = cupon + parandcupon\n",
    "print(\"The price of the bond is:\", price)"
   ]
  },
  {
   "cell_type": "code",
   "execution_count": 2,
   "metadata": {},
   "outputs": [],
   "source": [
    "import QuantLib as ql"
   ]
  },
  {
   "cell_type": "code",
   "execution_count": 3,
   "metadata": {},
   "outputs": [],
   "source": [
    "today = ql.Date(15,1,2015)\n",
    "ql.Settings.instance().evaluationDate = today\n",
    "spot_dates = [ql.Date(15,1,2015), ql.Date(15,7,2015), ql.Date(15,1,2016)]\n",
    "spot_rates = [0,0.005,0.007]\n",
    "day_count = ql.Thirty360()\n",
    "calendar = ql.UnitedStates()\n",
    "interpolation = ql.Linear()\n",
    "compounding = ql.Compounded\n",
    "compounding_freq = ql.Annual\n",
    "\n",
    "spot_curve = ql.ZeroCurve(spot_dates,spot_rates,day_count,calendar,\n",
    "                         interpolation,compounding,compounding_freq)\n",
    "spot_curve_handle = ql.YieldTermStructureHandle(spot_curve)"
   ]
  },
  {
   "cell_type": "code",
   "execution_count": 4,
   "metadata": {},
   "outputs": [
    {
     "data": {
      "text/plain": [
       "[Date(1,1,2015), Date(1,7,2015), Date(1,1,2016)]"
      ]
     },
     "execution_count": 4,
     "metadata": {},
     "output_type": "execute_result"
    }
   ],
   "source": [
    "issue_date = ql.Date(1, 1, 2015)\n",
    "maturity_date = ql.Date(1, 1, 2016)\n",
    "tenor = ql.Period(ql.Semiannual)\n",
    "calendar = ql.UnitedStates()\n",
    "business_convention = ql.Unadjusted\n",
    "date_generation = ql.DateGeneration.Backward\n",
    "month_end = False\n",
    "schedule = ql.Schedule (issue_date, maturity_date, tenor, calendar, business_convention,\n",
    "                            business_convention , date_generation, month_end)\n",
    "list(schedule)"
   ]
  },
  {
   "cell_type": "code",
   "execution_count": 5,
   "metadata": {},
   "outputs": [],
   "source": [
    "#Get The Cupon\n",
    "day_count = ql.Thirty360()\n",
    "cupon_rate = 0.06\n",
    "cupons = [cupon_rate]"
   ]
  },
  {
   "cell_type": "code",
   "execution_count": 6,
   "metadata": {},
   "outputs": [],
   "source": [
    "#Get the bond\n",
    "settlement_days = 0\n",
    "face_value = 100\n",
    "fixed_rate_bond = ql.FixedRateBond(settlement_days, face_value,schedule,cupons,day_count)"
   ]
  },
  {
   "cell_type": "code",
   "execution_count": 7,
   "metadata": {},
   "outputs": [],
   "source": [
    "bond_engine = ql.DiscountingBondEngine(spot_curve_handle)\n",
    "fixed_rate_bond.setPricingEngine(bond_engine)"
   ]
  },
  {
   "cell_type": "code",
   "execution_count": 8,
   "metadata": {},
   "outputs": [
    {
     "data": {
      "text/plain": [
       "105.31150976284499"
      ]
     },
     "execution_count": 8,
     "metadata": {},
     "output_type": "execute_result"
    }
   ],
   "source": [
    "fixed_rate_bond.NPV()"
   ]
  },
  {
   "cell_type": "markdown",
   "metadata": {},
   "source": [
    "## Another example\n",
    "#### 4 year bond semiannual cupons of 5%\n",
    "#### spotrates every6months are [0.000,0.004,0.005,0.004,0.006,0.007]"
   ]
  },
  {
   "cell_type": "code",
   "execution_count": 9,
   "metadata": {},
   "outputs": [],
   "source": [
    "today = ql.Date(15,1,2015)\n",
    "ql.Settings.instance().evaluationDate = today\n",
    "spot_dates = [ql.Date(15,1,2015), ql.Date(15,7,2015), ql.Date(15,1,2016),\n",
    "             ql.Date(15,7,2016), ql.Date(15,1,2017), ql.Date(15,7,2017),\n",
    "             ql.Date(15,1,2018)]\n",
    "spot_rates = [0,0.005,0.007,0.006,0.003,0.005,0.008]\n",
    "day_count = ql.Thirty360()\n",
    "calendar = ql.UnitedStates()\n",
    "interpolation = ql.Linear()\n",
    "compounding = ql.Compounded\n",
    "compounding_freq = ql.Annual\n",
    "\n",
    "spot_curve = ql.ZeroCurve(spot_dates,spot_rates,day_count,calendar,\n",
    "                         interpolation,compounding,compounding_freq)\n",
    "spot_curve_handle = ql.YieldTermStructureHandle(spot_curve)\n",
    "spot_curve.enableExtrapolation()"
   ]
  },
  {
   "cell_type": "code",
   "execution_count": 10,
   "metadata": {},
   "outputs": [
    {
     "data": {
      "text/plain": [
       "[Date(15,1,2015),\n",
       " Date(15,7,2015),\n",
       " Date(15,1,2016),\n",
       " Date(15,7,2016),\n",
       " Date(15,1,2017),\n",
       " Date(15,7,2017),\n",
       " Date(15,1,2018)]"
      ]
     },
     "execution_count": 10,
     "metadata": {},
     "output_type": "execute_result"
    }
   ],
   "source": [
    "issue_date = ql.Date(15, 1, 2015)\n",
    "maturity_date = ql.Date(15, 1, 2018)\n",
    "tenor = ql.Period(ql.Semiannual)\n",
    "calendar = ql.UnitedStates()\n",
    "business_convention = ql.Unadjusted\n",
    "date_generation = ql.DateGeneration.Backward\n",
    "month_end = False\n",
    "schedule = ql.Schedule (issue_date, maturity_date, tenor, calendar, business_convention,\n",
    "                            business_convention , date_generation, month_end)\n",
    "list(schedule)"
   ]
  },
  {
   "cell_type": "code",
   "execution_count": 11,
   "metadata": {},
   "outputs": [],
   "source": [
    "#Get The Cupon\n",
    "day_count = ql.Thirty360()\n",
    "cupon_rate = 0.05\n",
    "cupons = [cupon_rate]*5"
   ]
  },
  {
   "cell_type": "code",
   "execution_count": 12,
   "metadata": {},
   "outputs": [],
   "source": [
    "#Get the bond\n",
    "settlement_days = 0\n",
    "face_value = 100\n",
    "fixed_rate_bond = ql.FixedRateBond(settlement_days, face_value,schedule,cupons,day_count)"
   ]
  },
  {
   "cell_type": "code",
   "execution_count": 13,
   "metadata": {},
   "outputs": [],
   "source": [
    "bond_engine = ql.DiscountingBondEngine(spot_curve_handle)\n",
    "fixed_rate_bond.setPricingEngine(bond_engine)"
   ]
  },
  {
   "cell_type": "code",
   "execution_count": 14,
   "metadata": {},
   "outputs": [
    {
     "data": {
      "text/plain": [
       "112.47938118774368"
      ]
     },
     "execution_count": 14,
     "metadata": {},
     "output_type": "execute_result"
    }
   ],
   "source": [
    "fixed_rate_bond.NPV()"
   ]
  },
  {
   "cell_type": "code",
   "execution_count": null,
   "metadata": {},
   "outputs": [],
   "source": []
  },
  {
   "cell_type": "code",
   "execution_count": null,
   "metadata": {},
   "outputs": [],
   "source": []
  }
 ],
 "metadata": {
  "kernelspec": {
   "display_name": "Python 3",
   "language": "python",
   "name": "python3"
  },
  "language_info": {
   "codemirror_mode": {
    "name": "ipython",
    "version": 3
   },
   "file_extension": ".py",
   "mimetype": "text/x-python",
   "name": "python",
   "nbconvert_exporter": "python",
   "pygments_lexer": "ipython3",
   "version": "3.8.3"
  }
 },
 "nbformat": 4,
 "nbformat_minor": 4
}
