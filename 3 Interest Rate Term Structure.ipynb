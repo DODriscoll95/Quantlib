{
 "cells": [
  {
   "cell_type": "code",
   "execution_count": 1,
   "metadata": {},
   "outputs": [],
   "source": [
    "import pandas as pd\n",
    "import numpy as np\n",
    "import math\n",
    "import QuantLib as ql"
   ]
  },
  {
   "cell_type": "markdown",
   "metadata": {},
   "source": [
    "## Bootstrapping the yield curve"
   ]
  },
  {
   "cell_type": "code",
   "execution_count": 2,
   "metadata": {},
   "outputs": [],
   "source": [
    "def print_curve(xlist,ylist, precision  = 4):\n",
    "    \"\"\"\n",
    "    Way to print the curve nicely\n",
    "    \"\"\"\n",
    "    print(\"__________________ \\n\")\n",
    "    print(\"Maturities Curve \")\n",
    "    print(\"__________________\")\n",
    "    \n",
    "    for x,y in zip(xlist,ylist):\n",
    "        print(x,\"\\t\\t\", round(y,precision))\n",
    "        \n",
    "    print(\"__________________\")"
   ]
  },
  {
   "cell_type": "code",
   "execution_count": 3,
   "metadata": {},
   "outputs": [
    {
     "name": "stdout",
     "output_type": "stream",
     "text": [
      "__________________ \n",
      "\n",
      "Maturities Curve \n",
      "__________________\n",
      "6M \t\t 5.25\n",
      "1Y \t\t 5.5\n",
      "1Y6M \t\t 5.75\n",
      "2Y \t\t 6.0\n",
      "2Y6M \t\t 6.25\n",
      "3Y \t\t 6.5\n",
      "3Y6M \t\t 6.75\n",
      "4Y \t\t 6.8\n",
      "4Y6M \t\t 7.0\n",
      "5Y \t\t 7.1\n",
      "5Y6M \t\t 7.15\n",
      "6Y \t\t 7.2\n",
      "6Y6M \t\t 7.3\n",
      "7Y \t\t 7.35\n",
      "7Y6M \t\t 7.4\n",
      "8Y \t\t 7.5\n",
      "8Y6M \t\t 7.6\n",
      "9Y \t\t 7.6\n",
      "9Y6M \t\t 7.7\n",
      "10Y \t\t 7.8\n",
      "__________________\n"
     ]
    }
   ],
   "source": [
    "#Deposit rates\n",
    "\n",
    "deposit_maturities = [ql.Period(6,ql.Months), ql.Period(12,ql.Months)]\n",
    "deposit_rates = [5.25,5.5]\n",
    "\n",
    "#Bond Rates\n",
    "bond_maturities = [ql.Period(6*i,ql.Months) for i in range(3,21)]\n",
    "bond_rates = [5.75, 6.0, 6.25, 6.5, 6.75, 6.80, 7.00, 7.1, 7.15,\n",
    "              7.2, 7.3, 7.35, 7.4, 7.5, 7.6, 7.6, 7.7, 7.8]\n",
    "\n",
    "print_curve(deposit_maturities+bond_maturities, deposit_rates+bond_rates)\n"
   ]
  },
  {
   "cell_type": "code",
   "execution_count": 4,
   "metadata": {},
   "outputs": [],
   "source": [
    "# constants\n",
    "# assume for the sake of example that some of the constants\n",
    "# are the same for depo rates and bond rates\n",
    "calc_date = ql.Date(15,1,2015)\n",
    "ql.Settings.instance().evaluationDate = calc_date\n",
    "\n",
    "calendar = ql.UnitedStates()\n",
    "business_convention = ql.Unadjusted\n",
    "day_count = ql.Thirty360()\n",
    "end_of_month = True\n",
    "settlement_days = 0\n",
    "face_value = 100\n",
    "cupon_frequency = ql.Period(ql.Semiannual)"
   ]
  },
  {
   "cell_type": "code",
   "execution_count": 5,
   "metadata": {},
   "outputs": [],
   "source": [
    "# Use the deposit rates and bond rates to create individual helpers. \n",
    "# Then use the combination of the two helpers to construct the yield curve."
   ]
  },
  {
   "cell_type": "code",
   "execution_count": 6,
   "metadata": {},
   "outputs": [],
   "source": [
    "deposit_helpers = [ql.DepositRateHelper(ql.QuoteHandle(ql.SimpleQuote(r/100.0)),\n",
    "                  m,\n",
    "                  settlement_days,\n",
    "                  calendar,\n",
    "                  business_convention,\n",
    "                  end_of_month,\n",
    "                  day_count)\n",
    "                  for r,m in zip(deposit_rates,deposit_maturities)]"
   ]
  },
  {
   "cell_type": "code",
   "execution_count": 7,
   "metadata": {},
   "outputs": [],
   "source": [
    "bond_helpers = []\n",
    "for r,m in zip(bond_rates,bond_maturities):\n",
    "    termination_date = calc_date+m\n",
    "    schedule = ql.Schedule(calc_date,\n",
    "                          termination_date,\n",
    "                          cupon_frequency,\n",
    "                          calendar,\n",
    "                          business_convention,\n",
    "                          business_convention,\n",
    "                          ql.DateGeneration.Backward,\n",
    "                          end_of_month)\n",
    "    helper = ql.FixedRateBondHelper(ql.QuoteHandle(ql.SimpleQuote(face_value)),\n",
    "                                   settlement_days,\n",
    "                                   face_value,\n",
    "                                   schedule,\n",
    "                                   [r/100.0],\n",
    "                                   day_count,\n",
    "                                   business_convention)\n",
    "    bond_helpers.append(helper)"
   ]
  },
  {
   "cell_type": "code",
   "execution_count": 8,
   "metadata": {},
   "outputs": [],
   "source": [
    "rate_helpers = deposit_helpers + bond_helpers\n",
    "yield_curve = ql.PiecewiseLogCubicDiscount(calc_date,rate_helpers,day_count)"
   ]
  },
  {
   "cell_type": "code",
   "execution_count": 9,
   "metadata": {},
   "outputs": [],
   "source": [
    "spots = []\n",
    "tenors = []\n",
    "\n",
    "for d in yield_curve.dates():\n",
    "    yrs = day_count.yearFraction(calc_date,d)\n",
    "    compounding = ql.Compounded\n",
    "    freq = ql.Semiannual\n",
    "    zero_rate = yield_curve.zeroRate(yrs,compounding,freq)\n",
    "    tenors.append(yrs)\n",
    "    eq_rate = zero_rate.equivalentRate(day_count,\n",
    "                                      compounding,\n",
    "                                      freq,\n",
    "                                      calc_date,\n",
    "                                      d).rate()\n",
    "    spots.append(100*eq_rate)"
   ]
  },
  {
   "cell_type": "code",
   "execution_count": 10,
   "metadata": {},
   "outputs": [
    {
     "name": "stdout",
     "output_type": "stream",
     "text": [
      "TENORS__________________SPOTS\n",
      "0.0 ____________________ 0.0\n",
      "0.5 ____________________ 5.25\n",
      "1.0 ____________________ 5.426\n",
      "1.5 ____________________ 5.761\n",
      "2.0 ____________________ 6.02\n",
      "2.5 ____________________ 6.283\n",
      "3.0 ____________________ 6.55\n",
      "3.5 ____________________ 6.822\n",
      "4.0 ____________________ 6.87\n",
      "4.5 ____________________ 7.095\n",
      "5.0 ____________________ 7.205\n",
      "5.5 ____________________ 7.257\n",
      "6.0 ____________________ 7.31\n",
      "6.5 ____________________ 7.429\n",
      "7.0 ____________________ 7.485\n",
      "7.5 ____________________ 7.543\n",
      "8.0 ____________________ 7.671\n",
      "8.5 ____________________ 7.802\n",
      "9.0 ____________________ 7.791\n",
      "9.5 ____________________ 7.929\n",
      "10.0 ____________________ 8.072\n"
     ]
    }
   ],
   "source": [
    "print(\"TENORS__________________SPOTS\")\n",
    "for i in range(0,len(spots)):\n",
    "    print(tenors[i],\"____________________\",round(spots[i],3))"
   ]
  }
 ],
 "metadata": {
  "kernelspec": {
   "display_name": "Python 3",
   "language": "python",
   "name": "python3"
  },
  "language_info": {
   "codemirror_mode": {
    "name": "ipython",
    "version": 3
   },
   "file_extension": ".py",
   "mimetype": "text/x-python",
   "name": "python",
   "nbconvert_exporter": "python",
   "pygments_lexer": "ipython3",
   "version": "3.8.3"
  }
 },
 "nbformat": 4,
 "nbformat_minor": 4
}
